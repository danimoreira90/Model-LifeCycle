{
  "nbformat": 4,
  "nbformat_minor": 0,
  "metadata": {
    "colab": {
      "provenance": []
    },
    "kernelspec": {
      "name": "python3",
      "display_name": "Python 3"
    },
    "language_info": {
      "name": "python"
    }
  },
  "cells": [
    {
      "cell_type": "markdown",
      "source": [
        "**Questão 1:**\n",
        "\n",
        "Machine Learning (ML), ou Aprendizado de Máquina, é um subcampo da inteligência artificial que se concentra no desenvolvimento de algoritmos e técnicas que permitem aos computadores aprenderem a partir de dados e fazerem previsões ou tomar decisões sem serem explicitamente programados para cada tarefa específica.\n",
        "\n",
        "O processo de Machine Learning envolve:\n",
        "\n",
        "1. Coleta de dados relevantes.\n",
        "2. Preparação e pré-processamento dos dados.\n",
        "3. Escolha do algoritmo de ML apropriado.\n",
        "4. Treinamento do modelo com os dados.\n",
        "5. Avaliação do desempenho do modelo.\n",
        "6. Ajuste do modelo, se necessário.\n",
        "7. Utilização do modelo treinado para fazer previsões ou tomar decisões sobre novos dados.\n",
        "\n",
        "Exemplo de um problema onde Machine Learning pode ser aplicado:\n",
        "\n",
        "**Problema de classificação de e-mails como spam ou não-spam:**\n",
        "\n",
        "Uma empresa de e-mail e deseja criar um filtro para classificar automaticamente e-mails como spam ou não-spam. Problema de classificação binária, onde existem dois rótulos possíveis: spam ou não-spam. Como o processo de Machine Learning poderia ser aplicado:\n",
        "\n",
        "1. **Coleta de dados**: Reunir um conjunto de e-mails rotulados como spam e não-spam.\n",
        "2. **Preparação e pré-processamento dos dados**: Limpar os dados, removendo informações irrelevantes, convertendo texto em um formato adequado para análise (por exemplo, vetorizando o texto) e dividindo os dados em conjuntos de treinamento e teste.\n",
        "3. **Escolha do algoritmo de ML**: Escolher um algoritmo de classificação adequado para este problema, como Naive Bayes, Support Vector Machines (SVM), ou Redes Neurais, por exemplo.\n",
        "4. **Treinamento do modelo**: Alimentar o algoritmo com os dados de treinamento e ajusta os parâmetros do modelo para minimizar o erro de classificação.\n",
        "5. **Avaliação do desempenho do modelo**: Avaliar o desempenho do modelo usando os dados de teste, medindo métricas como precisão, recall, e F1-score.\n",
        "6. **Ajuste do modelo**: Se o desempenho do modelo não for satisfatório, os parâmetros do modelo podem ser ajustados ou experimentar diferentes algoritmos.\n",
        "7. **Utilização do modelo treinado**: Após obter um modelo com desempenho satisfatório, você pode implantá-lo no sistema de e-mails da empresa para classificar automaticamente os e-mails recebidos como spam ou não-spam.\n",
        "\n"
      ],
      "metadata": {
        "id": "HwISIbj_ua51"
      }
    },
    {
      "cell_type": "markdown",
      "source": [
        "**Questão 2:**\n",
        "\n",
        "Em Machine Learning, um problema é considerado supervisionado quando envolve a aprendizagem de um modelo a partir de um conjunto de dados rotulados, ou seja, quando o algoritmo é treinado usando exemplos de entrada e a saída desejada correspondente. No aprendizado supervisionado, o modelo aprende a mapear entradas para saídas com base nos exemplos fornecidos durante o treinamento.\n",
        "\n",
        "Principais pontos que caracterizam um problema como supervisionado em Machine Learning:\n",
        "\n",
        "1. **Dados rotulados**: O conjunto de dados de treinamento é composto por exemplos em que tanto as entradas quanto as saídas esperadas (rótulos) são fornecidos. Por exemplo, em um problema de classificação de imagens de cães e gatos, cada imagem é acompanhada de um rótulo indicando se é um cão ou um gato.\n",
        "\n",
        "2. **Objetivo de prever ou inferir**: O objetivo do aprendizado supervisionado é criar um modelo capaz de fazer previsões ou inferências sobre novos dados com base nos padrões aprendidos a partir dos dados de treinamento. Por exemplo, o modelo treinado em um conjunto de dados de imagens de cães e gatos pode ser usado para classificar corretamente imagens de cães e gatos não vistas anteriormente.\n",
        "\n",
        "3. **Avaliação do modelo**: Como o conjunto de dados de treinamento inclui os rótulos verdadeiros, é possível avaliar o desempenho do modelo comparando suas previsões com os rótulos verdadeiros. Métricas de avaliação, como precisão, recall, F1-score, entre outras, são comumente usadas para medir o quão bem o modelo está generalizando para novos dados.\n",
        "\n",
        "4. **Feedback explícito**: Durante o treinamento, o modelo recebe feedback explícito sobre a qualidade de suas previsões em relação aos rótulos verdadeiros. Esse feedback é usado para ajustar os parâmetros do modelo e melhorar sua capacidade de generalização para novos dados.\n",
        "\n",
        "O aprendizado supervisionado em Machine Learning é caracterizado pela presença de dados rotulados, onde o objetivo é treinar um modelo para fazer previsões precisas sobre novos dados com base nos padrões identificados nos dados de treinamento, utilizando feedback explícito para ajustar o modelo durante o treinamento."
      ],
      "metadata": {
        "id": "dnnPRU6PvwE7"
      }
    },
    {
      "cell_type": "markdown",
      "source": [
        "**Questão 3:**\n",
        "\n",
        "No aprendizado baseado em instâncias, também conhecido como aprendizado preguiçoso ou memória, o modelo não generaliza explicitamente a partir dos exemplos de treinamento para formar uma representação abstrata do problema. Em vez disso, ele memoriza os exemplos de treinamento e utiliza essa informação diretamente para fazer previsões sobre novas instâncias. Esse método enfatiza a similaridade entre novos dados e exemplos de treinamento armazenados, sem a necessidade de um processo explícito de generalização. Dessa forma, a tomada de decisão do modelo baseado em instâncias é realizada localmente, considerando apenas as instâncias mais semelhantes no espaço de entrada.\n",
        "\n",
        "Por outro lado, o aprendizado baseado em modelos segue uma abordagem mais sistemática e abstrata, na qual o modelo busca capturar regularidades nos dados de treinamento e criar uma representação geral do problema. Esse processo envolve a construção de um modelo explícito, que pode ser uma função matemática ou um conjunto de regras, capaz de mapear as entradas para as saídas desejadas. Essa representação abstrata do problema permite que o modelo generalize para novas instâncias, ou seja, faça previsões precisas mesmo em dados não vistos durante o treinamento.\n",
        "\n",
        "Assim, enquanto o aprendizado baseado em instâncias se concentra na similaridade local entre os dados de treinamento e os novos exemplos para fazer previsões, o aprendizado baseado em modelos busca identificar padrões mais amplos nos dados de treinamento e generalizá-los para realizar inferências sobre novos dados."
      ],
      "metadata": {
        "id": "6RfstD21wRcx"
      }
    },
    {
      "cell_type": "markdown",
      "source": [
        "**Questão 4:**\n",
        "\n",
        "Um desafio significativo na aplicação de Machine Learning em problemas de negócios reais é a garantia da interpretabilidade e transparência dos modelos desenvolvidos. Enquanto algoritmos de Machine Learning mais complexos, como redes neurais profundas, podem fornecer ótimo desempenho em termos de precisão preditiva, eles muitas vezes carecem de interpretabilidade, o que pode ser um obstáculo para sua adoção em ambientes empresariais.\n",
        "\n",
        "A interpretabilidade de um modelo refere-se à capacidade de compreender e explicar como as entradas estão sendo transformadas em saídas pelo modelo. Em muitos cenários empresariais, é essencial entender o raciocínio por trás das decisões do modelo para garantir a conformidade com regulamentações, explicar decisões aos stakeholders e identificar possíveis vieses ou falhas no modelo.\n",
        "\n",
        "No entanto, algoritmos de Machine Learning mais complexos, como redes neurais profundas, frequentemente operam como \"caixas pretas\", onde é difícil entender como as características dos dados são ponderadas e combinadas para fazer previsões. Isso pode ser problemático em setores regulamentados, como finanças e saúde, onde é necessário justificar as decisões do modelo.\n",
        "\n",
        "Portanto, um desafio crucial é desenvolver técnicas e métodos que equilibrem a complexidade e a precisão dos modelos de Machine Learning com a interpretabilidade e a transparência. Isso pode envolver o uso de abordagens interpretáveis, como árvores de decisão, modelos lineares generalizados e métodos baseados em regras, ou o desenvolvimento de técnicas de explicabilidade específicas para modelos de Machine Learning mais complexos.\n",
        "\n",
        "Além disso, é importante considerar a interpretabilidade desde as fases iniciais do desenvolvimento do modelo, incorporando técnicas de interpretabilidade durante o processo de treinamento e validação do modelo e avaliando continuamente a interpretabilidade do modelo ao longo do tempo, à medida que novos dados são incorporados.\n"
      ],
      "metadata": {
        "id": "Gs80hCL4w0gs"
      }
    },
    {
      "cell_type": "markdown",
      "source": [
        "**Questão 5:**"
      ],
      "metadata": {
        "id": "cA216lXZxc8l"
      }
    },
    {
      "cell_type": "code",
      "execution_count": null,
      "metadata": {
        "id": "D-EckaMELjrg"
      },
      "outputs": [],
      "source": [
        "import pandas as pd\n"
      ]
    },
    {
      "cell_type": "code",
      "source": [
        "customer_churn = pd.read_csv('/content/AT_Customer_Churn.csv')\n",
        "customer_churn.head()"
      ],
      "metadata": {
        "colab": {
          "base_uri": "https://localhost:8080/",
          "height": 224
        },
        "id": "jCINwojz6X2E",
        "outputId": "8b0304c8-bca6-44bb-ea4c-f93882b98c9e"
      },
      "execution_count": null,
      "outputs": [
        {
          "output_type": "execute_result",
          "data": {
            "text/plain": [
              "   Call  Failure  Complains  Subscription  Length  Charge  Amount  \\\n",
              "0              8          0                    38               0   \n",
              "1              0          0                    39               0   \n",
              "2             10          0                    37               0   \n",
              "3             10          0                    38               0   \n",
              "4              3          0                    38               0   \n",
              "\n",
              "   Seconds of Use  Frequency of use  Frequency of SMS  \\\n",
              "0            4370                71                 5   \n",
              "1             318                 5                 7   \n",
              "2            2453                60               359   \n",
              "3            4198                66                 1   \n",
              "4            2393                58                 2   \n",
              "\n",
              "   Distinct Called Numbers  Age Group  Tariff Plan  Status  Age  \\\n",
              "0                       17          3            1       1   30   \n",
              "1                        4          2            1       2   25   \n",
              "2                       24          3            1       1   30   \n",
              "3                       35          1            1       1   15   \n",
              "4                       33          1            1       1   15   \n",
              "\n",
              "   Customer Value  Churn  \n",
              "0         197.640      0  \n",
              "1          46.035      0  \n",
              "2        1536.520      0  \n",
              "3         240.020      0  \n",
              "4         145.805      0  "
            ],
            "text/html": [
              "\n",
              "  <div id=\"df-d3ae1874-7642-44a7-bd0f-46ad0b371794\" class=\"colab-df-container\">\n",
              "    <div>\n",
              "<style scoped>\n",
              "    .dataframe tbody tr th:only-of-type {\n",
              "        vertical-align: middle;\n",
              "    }\n",
              "\n",
              "    .dataframe tbody tr th {\n",
              "        vertical-align: top;\n",
              "    }\n",
              "\n",
              "    .dataframe thead th {\n",
              "        text-align: right;\n",
              "    }\n",
              "</style>\n",
              "<table border=\"1\" class=\"dataframe\">\n",
              "  <thead>\n",
              "    <tr style=\"text-align: right;\">\n",
              "      <th></th>\n",
              "      <th>Call  Failure</th>\n",
              "      <th>Complains</th>\n",
              "      <th>Subscription  Length</th>\n",
              "      <th>Charge  Amount</th>\n",
              "      <th>Seconds of Use</th>\n",
              "      <th>Frequency of use</th>\n",
              "      <th>Frequency of SMS</th>\n",
              "      <th>Distinct Called Numbers</th>\n",
              "      <th>Age Group</th>\n",
              "      <th>Tariff Plan</th>\n",
              "      <th>Status</th>\n",
              "      <th>Age</th>\n",
              "      <th>Customer Value</th>\n",
              "      <th>Churn</th>\n",
              "    </tr>\n",
              "  </thead>\n",
              "  <tbody>\n",
              "    <tr>\n",
              "      <th>0</th>\n",
              "      <td>8</td>\n",
              "      <td>0</td>\n",
              "      <td>38</td>\n",
              "      <td>0</td>\n",
              "      <td>4370</td>\n",
              "      <td>71</td>\n",
              "      <td>5</td>\n",
              "      <td>17</td>\n",
              "      <td>3</td>\n",
              "      <td>1</td>\n",
              "      <td>1</td>\n",
              "      <td>30</td>\n",
              "      <td>197.640</td>\n",
              "      <td>0</td>\n",
              "    </tr>\n",
              "    <tr>\n",
              "      <th>1</th>\n",
              "      <td>0</td>\n",
              "      <td>0</td>\n",
              "      <td>39</td>\n",
              "      <td>0</td>\n",
              "      <td>318</td>\n",
              "      <td>5</td>\n",
              "      <td>7</td>\n",
              "      <td>4</td>\n",
              "      <td>2</td>\n",
              "      <td>1</td>\n",
              "      <td>2</td>\n",
              "      <td>25</td>\n",
              "      <td>46.035</td>\n",
              "      <td>0</td>\n",
              "    </tr>\n",
              "    <tr>\n",
              "      <th>2</th>\n",
              "      <td>10</td>\n",
              "      <td>0</td>\n",
              "      <td>37</td>\n",
              "      <td>0</td>\n",
              "      <td>2453</td>\n",
              "      <td>60</td>\n",
              "      <td>359</td>\n",
              "      <td>24</td>\n",
              "      <td>3</td>\n",
              "      <td>1</td>\n",
              "      <td>1</td>\n",
              "      <td>30</td>\n",
              "      <td>1536.520</td>\n",
              "      <td>0</td>\n",
              "    </tr>\n",
              "    <tr>\n",
              "      <th>3</th>\n",
              "      <td>10</td>\n",
              "      <td>0</td>\n",
              "      <td>38</td>\n",
              "      <td>0</td>\n",
              "      <td>4198</td>\n",
              "      <td>66</td>\n",
              "      <td>1</td>\n",
              "      <td>35</td>\n",
              "      <td>1</td>\n",
              "      <td>1</td>\n",
              "      <td>1</td>\n",
              "      <td>15</td>\n",
              "      <td>240.020</td>\n",
              "      <td>0</td>\n",
              "    </tr>\n",
              "    <tr>\n",
              "      <th>4</th>\n",
              "      <td>3</td>\n",
              "      <td>0</td>\n",
              "      <td>38</td>\n",
              "      <td>0</td>\n",
              "      <td>2393</td>\n",
              "      <td>58</td>\n",
              "      <td>2</td>\n",
              "      <td>33</td>\n",
              "      <td>1</td>\n",
              "      <td>1</td>\n",
              "      <td>1</td>\n",
              "      <td>15</td>\n",
              "      <td>145.805</td>\n",
              "      <td>0</td>\n",
              "    </tr>\n",
              "  </tbody>\n",
              "</table>\n",
              "</div>\n",
              "    <div class=\"colab-df-buttons\">\n",
              "\n",
              "  <div class=\"colab-df-container\">\n",
              "    <button class=\"colab-df-convert\" onclick=\"convertToInteractive('df-d3ae1874-7642-44a7-bd0f-46ad0b371794')\"\n",
              "            title=\"Convert this dataframe to an interactive table.\"\n",
              "            style=\"display:none;\">\n",
              "\n",
              "  <svg xmlns=\"http://www.w3.org/2000/svg\" height=\"24px\" viewBox=\"0 -960 960 960\">\n",
              "    <path d=\"M120-120v-720h720v720H120Zm60-500h600v-160H180v160Zm220 220h160v-160H400v160Zm0 220h160v-160H400v160ZM180-400h160v-160H180v160Zm440 0h160v-160H620v160ZM180-180h160v-160H180v160Zm440 0h160v-160H620v160Z\"/>\n",
              "  </svg>\n",
              "    </button>\n",
              "\n",
              "  <style>\n",
              "    .colab-df-container {\n",
              "      display:flex;\n",
              "      gap: 12px;\n",
              "    }\n",
              "\n",
              "    .colab-df-convert {\n",
              "      background-color: #E8F0FE;\n",
              "      border: none;\n",
              "      border-radius: 50%;\n",
              "      cursor: pointer;\n",
              "      display: none;\n",
              "      fill: #1967D2;\n",
              "      height: 32px;\n",
              "      padding: 0 0 0 0;\n",
              "      width: 32px;\n",
              "    }\n",
              "\n",
              "    .colab-df-convert:hover {\n",
              "      background-color: #E2EBFA;\n",
              "      box-shadow: 0px 1px 2px rgba(60, 64, 67, 0.3), 0px 1px 3px 1px rgba(60, 64, 67, 0.15);\n",
              "      fill: #174EA6;\n",
              "    }\n",
              "\n",
              "    .colab-df-buttons div {\n",
              "      margin-bottom: 4px;\n",
              "    }\n",
              "\n",
              "    [theme=dark] .colab-df-convert {\n",
              "      background-color: #3B4455;\n",
              "      fill: #D2E3FC;\n",
              "    }\n",
              "\n",
              "    [theme=dark] .colab-df-convert:hover {\n",
              "      background-color: #434B5C;\n",
              "      box-shadow: 0px 1px 3px 1px rgba(0, 0, 0, 0.15);\n",
              "      filter: drop-shadow(0px 1px 2px rgba(0, 0, 0, 0.3));\n",
              "      fill: #FFFFFF;\n",
              "    }\n",
              "  </style>\n",
              "\n",
              "    <script>\n",
              "      const buttonEl =\n",
              "        document.querySelector('#df-d3ae1874-7642-44a7-bd0f-46ad0b371794 button.colab-df-convert');\n",
              "      buttonEl.style.display =\n",
              "        google.colab.kernel.accessAllowed ? 'block' : 'none';\n",
              "\n",
              "      async function convertToInteractive(key) {\n",
              "        const element = document.querySelector('#df-d3ae1874-7642-44a7-bd0f-46ad0b371794');\n",
              "        const dataTable =\n",
              "          await google.colab.kernel.invokeFunction('convertToInteractive',\n",
              "                                                    [key], {});\n",
              "        if (!dataTable) return;\n",
              "\n",
              "        const docLinkHtml = 'Like what you see? Visit the ' +\n",
              "          '<a target=\"_blank\" href=https://colab.research.google.com/notebooks/data_table.ipynb>data table notebook</a>'\n",
              "          + ' to learn more about interactive tables.';\n",
              "        element.innerHTML = '';\n",
              "        dataTable['output_type'] = 'display_data';\n",
              "        await google.colab.output.renderOutput(dataTable, element);\n",
              "        const docLink = document.createElement('div');\n",
              "        docLink.innerHTML = docLinkHtml;\n",
              "        element.appendChild(docLink);\n",
              "      }\n",
              "    </script>\n",
              "  </div>\n",
              "\n",
              "\n",
              "<div id=\"df-f3c01583-eee3-4268-823c-bc2403a11ca4\">\n",
              "  <button class=\"colab-df-quickchart\" onclick=\"quickchart('df-f3c01583-eee3-4268-823c-bc2403a11ca4')\"\n",
              "            title=\"Suggest charts\"\n",
              "            style=\"display:none;\">\n",
              "\n",
              "<svg xmlns=\"http://www.w3.org/2000/svg\" height=\"24px\"viewBox=\"0 0 24 24\"\n",
              "     width=\"24px\">\n",
              "    <g>\n",
              "        <path d=\"M19 3H5c-1.1 0-2 .9-2 2v14c0 1.1.9 2 2 2h14c1.1 0 2-.9 2-2V5c0-1.1-.9-2-2-2zM9 17H7v-7h2v7zm4 0h-2V7h2v10zm4 0h-2v-4h2v4z\"/>\n",
              "    </g>\n",
              "</svg>\n",
              "  </button>\n",
              "\n",
              "<style>\n",
              "  .colab-df-quickchart {\n",
              "      --bg-color: #E8F0FE;\n",
              "      --fill-color: #1967D2;\n",
              "      --hover-bg-color: #E2EBFA;\n",
              "      --hover-fill-color: #174EA6;\n",
              "      --disabled-fill-color: #AAA;\n",
              "      --disabled-bg-color: #DDD;\n",
              "  }\n",
              "\n",
              "  [theme=dark] .colab-df-quickchart {\n",
              "      --bg-color: #3B4455;\n",
              "      --fill-color: #D2E3FC;\n",
              "      --hover-bg-color: #434B5C;\n",
              "      --hover-fill-color: #FFFFFF;\n",
              "      --disabled-bg-color: #3B4455;\n",
              "      --disabled-fill-color: #666;\n",
              "  }\n",
              "\n",
              "  .colab-df-quickchart {\n",
              "    background-color: var(--bg-color);\n",
              "    border: none;\n",
              "    border-radius: 50%;\n",
              "    cursor: pointer;\n",
              "    display: none;\n",
              "    fill: var(--fill-color);\n",
              "    height: 32px;\n",
              "    padding: 0;\n",
              "    width: 32px;\n",
              "  }\n",
              "\n",
              "  .colab-df-quickchart:hover {\n",
              "    background-color: var(--hover-bg-color);\n",
              "    box-shadow: 0 1px 2px rgba(60, 64, 67, 0.3), 0 1px 3px 1px rgba(60, 64, 67, 0.15);\n",
              "    fill: var(--button-hover-fill-color);\n",
              "  }\n",
              "\n",
              "  .colab-df-quickchart-complete:disabled,\n",
              "  .colab-df-quickchart-complete:disabled:hover {\n",
              "    background-color: var(--disabled-bg-color);\n",
              "    fill: var(--disabled-fill-color);\n",
              "    box-shadow: none;\n",
              "  }\n",
              "\n",
              "  .colab-df-spinner {\n",
              "    border: 2px solid var(--fill-color);\n",
              "    border-color: transparent;\n",
              "    border-bottom-color: var(--fill-color);\n",
              "    animation:\n",
              "      spin 1s steps(1) infinite;\n",
              "  }\n",
              "\n",
              "  @keyframes spin {\n",
              "    0% {\n",
              "      border-color: transparent;\n",
              "      border-bottom-color: var(--fill-color);\n",
              "      border-left-color: var(--fill-color);\n",
              "    }\n",
              "    20% {\n",
              "      border-color: transparent;\n",
              "      border-left-color: var(--fill-color);\n",
              "      border-top-color: var(--fill-color);\n",
              "    }\n",
              "    30% {\n",
              "      border-color: transparent;\n",
              "      border-left-color: var(--fill-color);\n",
              "      border-top-color: var(--fill-color);\n",
              "      border-right-color: var(--fill-color);\n",
              "    }\n",
              "    40% {\n",
              "      border-color: transparent;\n",
              "      border-right-color: var(--fill-color);\n",
              "      border-top-color: var(--fill-color);\n",
              "    }\n",
              "    60% {\n",
              "      border-color: transparent;\n",
              "      border-right-color: var(--fill-color);\n",
              "    }\n",
              "    80% {\n",
              "      border-color: transparent;\n",
              "      border-right-color: var(--fill-color);\n",
              "      border-bottom-color: var(--fill-color);\n",
              "    }\n",
              "    90% {\n",
              "      border-color: transparent;\n",
              "      border-bottom-color: var(--fill-color);\n",
              "    }\n",
              "  }\n",
              "</style>\n",
              "\n",
              "  <script>\n",
              "    async function quickchart(key) {\n",
              "      const quickchartButtonEl =\n",
              "        document.querySelector('#' + key + ' button');\n",
              "      quickchartButtonEl.disabled = true;  // To prevent multiple clicks.\n",
              "      quickchartButtonEl.classList.add('colab-df-spinner');\n",
              "      try {\n",
              "        const charts = await google.colab.kernel.invokeFunction(\n",
              "            'suggestCharts', [key], {});\n",
              "      } catch (error) {\n",
              "        console.error('Error during call to suggestCharts:', error);\n",
              "      }\n",
              "      quickchartButtonEl.classList.remove('colab-df-spinner');\n",
              "      quickchartButtonEl.classList.add('colab-df-quickchart-complete');\n",
              "    }\n",
              "    (() => {\n",
              "      let quickchartButtonEl =\n",
              "        document.querySelector('#df-f3c01583-eee3-4268-823c-bc2403a11ca4 button');\n",
              "      quickchartButtonEl.style.display =\n",
              "        google.colab.kernel.accessAllowed ? 'block' : 'none';\n",
              "    })();\n",
              "  </script>\n",
              "</div>\n",
              "    </div>\n",
              "  </div>\n"
            ],
            "application/vnd.google.colaboratory.intrinsic+json": {
              "type": "dataframe",
              "variable_name": "customer_churn",
              "summary": "{\n  \"name\": \"customer_churn\",\n  \"rows\": 3150,\n  \"fields\": [\n    {\n      \"column\": \"Call  Failure\",\n      \"properties\": {\n        \"dtype\": \"number\",\n        \"std\": 7,\n        \"min\": 0,\n        \"max\": 36,\n        \"num_unique_values\": 37,\n        \"samples\": [\n          14,\n          21,\n          11\n        ],\n        \"semantic_type\": \"\",\n        \"description\": \"\"\n      }\n    },\n    {\n      \"column\": \"Complains\",\n      \"properties\": {\n        \"dtype\": \"number\",\n        \"std\": 0,\n        \"min\": 0,\n        \"max\": 1,\n        \"num_unique_values\": 2,\n        \"samples\": [\n          1,\n          0\n        ],\n        \"semantic_type\": \"\",\n        \"description\": \"\"\n      }\n    },\n    {\n      \"column\": \"Subscription  Length\",\n      \"properties\": {\n        \"dtype\": \"number\",\n        \"std\": 8,\n        \"min\": 3,\n        \"max\": 47,\n        \"num_unique_values\": 45,\n        \"samples\": [\n          3,\n          23\n        ],\n        \"semantic_type\": \"\",\n        \"description\": \"\"\n      }\n    },\n    {\n      \"column\": \"Charge  Amount\",\n      \"properties\": {\n        \"dtype\": \"number\",\n        \"std\": 1,\n        \"min\": 0,\n        \"max\": 10,\n        \"num_unique_values\": 11,\n        \"samples\": [\n          4,\n          0\n        ],\n        \"semantic_type\": \"\",\n        \"description\": \"\"\n      }\n    },\n    {\n      \"column\": \"Seconds of Use\",\n      \"properties\": {\n        \"dtype\": \"number\",\n        \"std\": 4197,\n        \"min\": 0,\n        \"max\": 17090,\n        \"num_unique_values\": 1756,\n        \"samples\": [\n          2633,\n          5115\n        ],\n        \"semantic_type\": \"\",\n        \"description\": \"\"\n      }\n    },\n    {\n      \"column\": \"Frequency of use\",\n      \"properties\": {\n        \"dtype\": \"number\",\n        \"std\": 57,\n        \"min\": 0,\n        \"max\": 255,\n        \"num_unique_values\": 242,\n        \"samples\": [\n          22,\n          39\n        ],\n        \"semantic_type\": \"\",\n        \"description\": \"\"\n      }\n    },\n    {\n      \"column\": \"Frequency of SMS\",\n      \"properties\": {\n        \"dtype\": \"number\",\n        \"std\": 112,\n        \"min\": 0,\n        \"max\": 522,\n        \"num_unique_values\": 405,\n        \"samples\": [\n          145,\n          195\n        ],\n        \"semantic_type\": \"\",\n        \"description\": \"\"\n      }\n    },\n    {\n      \"column\": \"Distinct Called Numbers\",\n      \"properties\": {\n        \"dtype\": \"number\",\n        \"std\": 17,\n        \"min\": 0,\n        \"max\": 97,\n        \"num_unique_values\": 92,\n        \"samples\": [\n          49,\n          31\n        ],\n        \"semantic_type\": \"\",\n        \"description\": \"\"\n      }\n    },\n    {\n      \"column\": \"Age Group\",\n      \"properties\": {\n        \"dtype\": \"number\",\n        \"std\": 0,\n        \"min\": 1,\n        \"max\": 5,\n        \"num_unique_values\": 5,\n        \"samples\": [\n          2,\n          5\n        ],\n        \"semantic_type\": \"\",\n        \"description\": \"\"\n      }\n    },\n    {\n      \"column\": \"Tariff Plan\",\n      \"properties\": {\n        \"dtype\": \"number\",\n        \"std\": 0,\n        \"min\": 1,\n        \"max\": 2,\n        \"num_unique_values\": 2,\n        \"samples\": [\n          2,\n          1\n        ],\n        \"semantic_type\": \"\",\n        \"description\": \"\"\n      }\n    },\n    {\n      \"column\": \"Status\",\n      \"properties\": {\n        \"dtype\": \"number\",\n        \"std\": 0,\n        \"min\": 1,\n        \"max\": 2,\n        \"num_unique_values\": 2,\n        \"samples\": [\n          2,\n          1\n        ],\n        \"semantic_type\": \"\",\n        \"description\": \"\"\n      }\n    },\n    {\n      \"column\": \"Age\",\n      \"properties\": {\n        \"dtype\": \"number\",\n        \"std\": 8,\n        \"min\": 15,\n        \"max\": 55,\n        \"num_unique_values\": 5,\n        \"samples\": [\n          25,\n          55\n        ],\n        \"semantic_type\": \"\",\n        \"description\": \"\"\n      }\n    },\n    {\n      \"column\": \"Customer Value\",\n      \"properties\": {\n        \"dtype\": \"number\",\n        \"std\": 517.0154327987643,\n        \"min\": 0.0,\n        \"max\": 2165.28,\n        \"num_unique_values\": 2654,\n        \"samples\": [\n          451.665,\n          111.96\n        ],\n        \"semantic_type\": \"\",\n        \"description\": \"\"\n      }\n    },\n    {\n      \"column\": \"Churn\",\n      \"properties\": {\n        \"dtype\": \"number\",\n        \"std\": 0,\n        \"min\": 0,\n        \"max\": 1,\n        \"num_unique_values\": 2,\n        \"samples\": [\n          1,\n          0\n        ],\n        \"semantic_type\": \"\",\n        \"description\": \"\"\n      }\n    }\n  ]\n}"
            }
          },
          "metadata": {},
          "execution_count": 8
        }
      ]
    },
    {
      "cell_type": "code",
      "source": [
        "customer_churn.columns"
      ],
      "metadata": {
        "colab": {
          "base_uri": "https://localhost:8080/"
        },
        "id": "2tr8eLj_6oHJ",
        "outputId": "a9b3b97a-5623-4e3a-ce75-6183d9710b38"
      },
      "execution_count": null,
      "outputs": [
        {
          "output_type": "execute_result",
          "data": {
            "text/plain": [
              "Index(['Call  Failure', 'Complains', 'Subscription  Length', 'Charge  Amount',\n",
              "       'Seconds of Use', 'Frequency of use', 'Frequency of SMS',\n",
              "       'Distinct Called Numbers', 'Age Group', 'Tariff Plan', 'Status', 'Age',\n",
              "       'Customer Value', 'Churn'],\n",
              "      dtype='object')"
            ]
          },
          "metadata": {},
          "execution_count": 9
        }
      ]
    },
    {
      "cell_type": "code",
      "source": [
        "# 1. Remover as variáveis \"Customer Value\" e \"Status\"\n",
        "customer_churn = customer_churn.drop(columns=[\"Customer Value\", \"Status\"])\n",
        "\n",
        "# 2. Converter a variável \"Seconds of Use\" de segundos para horas\n",
        "customer_churn[\"Hours of Use\"] = customer_churn[\"Seconds of Use\"] / 3600  # 3600 segundos em uma hora\n",
        "\n",
        "# 3. Renomear a variável para \"Hours of Use\"\n",
        "customer_churn = customer_churn.rename(columns={\"Seconds of Use\": \"Hours of Use\"})\n",
        "\n",
        "# Verificar as primeiras linhas do DataFrame após as transformações\n",
        "customer_churn.head()\n"
      ],
      "metadata": {
        "colab": {
          "base_uri": "https://localhost:8080/",
          "height": 206
        },
        "id": "dhI4WMl1H1In",
        "outputId": "35e83252-a93d-4b6a-c4dc-51b5c05943ce"
      },
      "execution_count": null,
      "outputs": [
        {
          "output_type": "execute_result",
          "data": {
            "text/plain": [
              "   Call  Failure  Complains  Subscription  Length  Charge  Amount  \\\n",
              "0              8          0                    38               0   \n",
              "1              0          0                    39               0   \n",
              "2             10          0                    37               0   \n",
              "3             10          0                    38               0   \n",
              "4              3          0                    38               0   \n",
              "\n",
              "   Hours of Use  Frequency of use  Frequency of SMS  Distinct Called Numbers  \\\n",
              "0          4370                71                 5                       17   \n",
              "1           318                 5                 7                        4   \n",
              "2          2453                60               359                       24   \n",
              "3          4198                66                 1                       35   \n",
              "4          2393                58                 2                       33   \n",
              "\n",
              "   Age Group  Tariff Plan  Age  Churn  Hours of Use  \n",
              "0          3            1   30      0      1.213889  \n",
              "1          2            1   25      0      0.088333  \n",
              "2          3            1   30      0      0.681389  \n",
              "3          1            1   15      0      1.166111  \n",
              "4          1            1   15      0      0.664722  "
            ],
            "text/html": [
              "\n",
              "  <div id=\"df-be6465f9-b643-4903-8379-3d857aeb9916\" class=\"colab-df-container\">\n",
              "    <div>\n",
              "<style scoped>\n",
              "    .dataframe tbody tr th:only-of-type {\n",
              "        vertical-align: middle;\n",
              "    }\n",
              "\n",
              "    .dataframe tbody tr th {\n",
              "        vertical-align: top;\n",
              "    }\n",
              "\n",
              "    .dataframe thead th {\n",
              "        text-align: right;\n",
              "    }\n",
              "</style>\n",
              "<table border=\"1\" class=\"dataframe\">\n",
              "  <thead>\n",
              "    <tr style=\"text-align: right;\">\n",
              "      <th></th>\n",
              "      <th>Call  Failure</th>\n",
              "      <th>Complains</th>\n",
              "      <th>Subscription  Length</th>\n",
              "      <th>Charge  Amount</th>\n",
              "      <th>Hours of Use</th>\n",
              "      <th>Frequency of use</th>\n",
              "      <th>Frequency of SMS</th>\n",
              "      <th>Distinct Called Numbers</th>\n",
              "      <th>Age Group</th>\n",
              "      <th>Tariff Plan</th>\n",
              "      <th>Age</th>\n",
              "      <th>Churn</th>\n",
              "      <th>Hours of Use</th>\n",
              "    </tr>\n",
              "  </thead>\n",
              "  <tbody>\n",
              "    <tr>\n",
              "      <th>0</th>\n",
              "      <td>8</td>\n",
              "      <td>0</td>\n",
              "      <td>38</td>\n",
              "      <td>0</td>\n",
              "      <td>4370</td>\n",
              "      <td>71</td>\n",
              "      <td>5</td>\n",
              "      <td>17</td>\n",
              "      <td>3</td>\n",
              "      <td>1</td>\n",
              "      <td>30</td>\n",
              "      <td>0</td>\n",
              "      <td>1.213889</td>\n",
              "    </tr>\n",
              "    <tr>\n",
              "      <th>1</th>\n",
              "      <td>0</td>\n",
              "      <td>0</td>\n",
              "      <td>39</td>\n",
              "      <td>0</td>\n",
              "      <td>318</td>\n",
              "      <td>5</td>\n",
              "      <td>7</td>\n",
              "      <td>4</td>\n",
              "      <td>2</td>\n",
              "      <td>1</td>\n",
              "      <td>25</td>\n",
              "      <td>0</td>\n",
              "      <td>0.088333</td>\n",
              "    </tr>\n",
              "    <tr>\n",
              "      <th>2</th>\n",
              "      <td>10</td>\n",
              "      <td>0</td>\n",
              "      <td>37</td>\n",
              "      <td>0</td>\n",
              "      <td>2453</td>\n",
              "      <td>60</td>\n",
              "      <td>359</td>\n",
              "      <td>24</td>\n",
              "      <td>3</td>\n",
              "      <td>1</td>\n",
              "      <td>30</td>\n",
              "      <td>0</td>\n",
              "      <td>0.681389</td>\n",
              "    </tr>\n",
              "    <tr>\n",
              "      <th>3</th>\n",
              "      <td>10</td>\n",
              "      <td>0</td>\n",
              "      <td>38</td>\n",
              "      <td>0</td>\n",
              "      <td>4198</td>\n",
              "      <td>66</td>\n",
              "      <td>1</td>\n",
              "      <td>35</td>\n",
              "      <td>1</td>\n",
              "      <td>1</td>\n",
              "      <td>15</td>\n",
              "      <td>0</td>\n",
              "      <td>1.166111</td>\n",
              "    </tr>\n",
              "    <tr>\n",
              "      <th>4</th>\n",
              "      <td>3</td>\n",
              "      <td>0</td>\n",
              "      <td>38</td>\n",
              "      <td>0</td>\n",
              "      <td>2393</td>\n",
              "      <td>58</td>\n",
              "      <td>2</td>\n",
              "      <td>33</td>\n",
              "      <td>1</td>\n",
              "      <td>1</td>\n",
              "      <td>15</td>\n",
              "      <td>0</td>\n",
              "      <td>0.664722</td>\n",
              "    </tr>\n",
              "  </tbody>\n",
              "</table>\n",
              "</div>\n",
              "    <div class=\"colab-df-buttons\">\n",
              "\n",
              "  <div class=\"colab-df-container\">\n",
              "    <button class=\"colab-df-convert\" onclick=\"convertToInteractive('df-be6465f9-b643-4903-8379-3d857aeb9916')\"\n",
              "            title=\"Convert this dataframe to an interactive table.\"\n",
              "            style=\"display:none;\">\n",
              "\n",
              "  <svg xmlns=\"http://www.w3.org/2000/svg\" height=\"24px\" viewBox=\"0 -960 960 960\">\n",
              "    <path d=\"M120-120v-720h720v720H120Zm60-500h600v-160H180v160Zm220 220h160v-160H400v160Zm0 220h160v-160H400v160ZM180-400h160v-160H180v160Zm440 0h160v-160H620v160ZM180-180h160v-160H180v160Zm440 0h160v-160H620v160Z\"/>\n",
              "  </svg>\n",
              "    </button>\n",
              "\n",
              "  <style>\n",
              "    .colab-df-container {\n",
              "      display:flex;\n",
              "      gap: 12px;\n",
              "    }\n",
              "\n",
              "    .colab-df-convert {\n",
              "      background-color: #E8F0FE;\n",
              "      border: none;\n",
              "      border-radius: 50%;\n",
              "      cursor: pointer;\n",
              "      display: none;\n",
              "      fill: #1967D2;\n",
              "      height: 32px;\n",
              "      padding: 0 0 0 0;\n",
              "      width: 32px;\n",
              "    }\n",
              "\n",
              "    .colab-df-convert:hover {\n",
              "      background-color: #E2EBFA;\n",
              "      box-shadow: 0px 1px 2px rgba(60, 64, 67, 0.3), 0px 1px 3px 1px rgba(60, 64, 67, 0.15);\n",
              "      fill: #174EA6;\n",
              "    }\n",
              "\n",
              "    .colab-df-buttons div {\n",
              "      margin-bottom: 4px;\n",
              "    }\n",
              "\n",
              "    [theme=dark] .colab-df-convert {\n",
              "      background-color: #3B4455;\n",
              "      fill: #D2E3FC;\n",
              "    }\n",
              "\n",
              "    [theme=dark] .colab-df-convert:hover {\n",
              "      background-color: #434B5C;\n",
              "      box-shadow: 0px 1px 3px 1px rgba(0, 0, 0, 0.15);\n",
              "      filter: drop-shadow(0px 1px 2px rgba(0, 0, 0, 0.3));\n",
              "      fill: #FFFFFF;\n",
              "    }\n",
              "  </style>\n",
              "\n",
              "    <script>\n",
              "      const buttonEl =\n",
              "        document.querySelector('#df-be6465f9-b643-4903-8379-3d857aeb9916 button.colab-df-convert');\n",
              "      buttonEl.style.display =\n",
              "        google.colab.kernel.accessAllowed ? 'block' : 'none';\n",
              "\n",
              "      async function convertToInteractive(key) {\n",
              "        const element = document.querySelector('#df-be6465f9-b643-4903-8379-3d857aeb9916');\n",
              "        const dataTable =\n",
              "          await google.colab.kernel.invokeFunction('convertToInteractive',\n",
              "                                                    [key], {});\n",
              "        if (!dataTable) return;\n",
              "\n",
              "        const docLinkHtml = 'Like what you see? Visit the ' +\n",
              "          '<a target=\"_blank\" href=https://colab.research.google.com/notebooks/data_table.ipynb>data table notebook</a>'\n",
              "          + ' to learn more about interactive tables.';\n",
              "        element.innerHTML = '';\n",
              "        dataTable['output_type'] = 'display_data';\n",
              "        await google.colab.output.renderOutput(dataTable, element);\n",
              "        const docLink = document.createElement('div');\n",
              "        docLink.innerHTML = docLinkHtml;\n",
              "        element.appendChild(docLink);\n",
              "      }\n",
              "    </script>\n",
              "  </div>\n",
              "\n",
              "\n",
              "<div id=\"df-da1134db-77c7-4030-a917-a60d1fb5ea11\">\n",
              "  <button class=\"colab-df-quickchart\" onclick=\"quickchart('df-da1134db-77c7-4030-a917-a60d1fb5ea11')\"\n",
              "            title=\"Suggest charts\"\n",
              "            style=\"display:none;\">\n",
              "\n",
              "<svg xmlns=\"http://www.w3.org/2000/svg\" height=\"24px\"viewBox=\"0 0 24 24\"\n",
              "     width=\"24px\">\n",
              "    <g>\n",
              "        <path d=\"M19 3H5c-1.1 0-2 .9-2 2v14c0 1.1.9 2 2 2h14c1.1 0 2-.9 2-2V5c0-1.1-.9-2-2-2zM9 17H7v-7h2v7zm4 0h-2V7h2v10zm4 0h-2v-4h2v4z\"/>\n",
              "    </g>\n",
              "</svg>\n",
              "  </button>\n",
              "\n",
              "<style>\n",
              "  .colab-df-quickchart {\n",
              "      --bg-color: #E8F0FE;\n",
              "      --fill-color: #1967D2;\n",
              "      --hover-bg-color: #E2EBFA;\n",
              "      --hover-fill-color: #174EA6;\n",
              "      --disabled-fill-color: #AAA;\n",
              "      --disabled-bg-color: #DDD;\n",
              "  }\n",
              "\n",
              "  [theme=dark] .colab-df-quickchart {\n",
              "      --bg-color: #3B4455;\n",
              "      --fill-color: #D2E3FC;\n",
              "      --hover-bg-color: #434B5C;\n",
              "      --hover-fill-color: #FFFFFF;\n",
              "      --disabled-bg-color: #3B4455;\n",
              "      --disabled-fill-color: #666;\n",
              "  }\n",
              "\n",
              "  .colab-df-quickchart {\n",
              "    background-color: var(--bg-color);\n",
              "    border: none;\n",
              "    border-radius: 50%;\n",
              "    cursor: pointer;\n",
              "    display: none;\n",
              "    fill: var(--fill-color);\n",
              "    height: 32px;\n",
              "    padding: 0;\n",
              "    width: 32px;\n",
              "  }\n",
              "\n",
              "  .colab-df-quickchart:hover {\n",
              "    background-color: var(--hover-bg-color);\n",
              "    box-shadow: 0 1px 2px rgba(60, 64, 67, 0.3), 0 1px 3px 1px rgba(60, 64, 67, 0.15);\n",
              "    fill: var(--button-hover-fill-color);\n",
              "  }\n",
              "\n",
              "  .colab-df-quickchart-complete:disabled,\n",
              "  .colab-df-quickchart-complete:disabled:hover {\n",
              "    background-color: var(--disabled-bg-color);\n",
              "    fill: var(--disabled-fill-color);\n",
              "    box-shadow: none;\n",
              "  }\n",
              "\n",
              "  .colab-df-spinner {\n",
              "    border: 2px solid var(--fill-color);\n",
              "    border-color: transparent;\n",
              "    border-bottom-color: var(--fill-color);\n",
              "    animation:\n",
              "      spin 1s steps(1) infinite;\n",
              "  }\n",
              "\n",
              "  @keyframes spin {\n",
              "    0% {\n",
              "      border-color: transparent;\n",
              "      border-bottom-color: var(--fill-color);\n",
              "      border-left-color: var(--fill-color);\n",
              "    }\n",
              "    20% {\n",
              "      border-color: transparent;\n",
              "      border-left-color: var(--fill-color);\n",
              "      border-top-color: var(--fill-color);\n",
              "    }\n",
              "    30% {\n",
              "      border-color: transparent;\n",
              "      border-left-color: var(--fill-color);\n",
              "      border-top-color: var(--fill-color);\n",
              "      border-right-color: var(--fill-color);\n",
              "    }\n",
              "    40% {\n",
              "      border-color: transparent;\n",
              "      border-right-color: var(--fill-color);\n",
              "      border-top-color: var(--fill-color);\n",
              "    }\n",
              "    60% {\n",
              "      border-color: transparent;\n",
              "      border-right-color: var(--fill-color);\n",
              "    }\n",
              "    80% {\n",
              "      border-color: transparent;\n",
              "      border-right-color: var(--fill-color);\n",
              "      border-bottom-color: var(--fill-color);\n",
              "    }\n",
              "    90% {\n",
              "      border-color: transparent;\n",
              "      border-bottom-color: var(--fill-color);\n",
              "    }\n",
              "  }\n",
              "</style>\n",
              "\n",
              "  <script>\n",
              "    async function quickchart(key) {\n",
              "      const quickchartButtonEl =\n",
              "        document.querySelector('#' + key + ' button');\n",
              "      quickchartButtonEl.disabled = true;  // To prevent multiple clicks.\n",
              "      quickchartButtonEl.classList.add('colab-df-spinner');\n",
              "      try {\n",
              "        const charts = await google.colab.kernel.invokeFunction(\n",
              "            'suggestCharts', [key], {});\n",
              "      } catch (error) {\n",
              "        console.error('Error during call to suggestCharts:', error);\n",
              "      }\n",
              "      quickchartButtonEl.classList.remove('colab-df-spinner');\n",
              "      quickchartButtonEl.classList.add('colab-df-quickchart-complete');\n",
              "    }\n",
              "    (() => {\n",
              "      let quickchartButtonEl =\n",
              "        document.querySelector('#df-da1134db-77c7-4030-a917-a60d1fb5ea11 button');\n",
              "      quickchartButtonEl.style.display =\n",
              "        google.colab.kernel.accessAllowed ? 'block' : 'none';\n",
              "    })();\n",
              "  </script>\n",
              "</div>\n",
              "    </div>\n",
              "  </div>\n"
            ],
            "application/vnd.google.colaboratory.intrinsic+json": {
              "type": "dataframe",
              "variable_name": "customer_churn",
              "summary": "{\n  \"name\": \"customer_churn\",\n  \"rows\": 3150,\n  \"fields\": [\n    {\n      \"column\": \"Call  Failure\",\n      \"properties\": {\n        \"dtype\": \"number\",\n        \"std\": 7,\n        \"min\": 0,\n        \"max\": 36,\n        \"num_unique_values\": 37,\n        \"samples\": [\n          14,\n          21,\n          11\n        ],\n        \"semantic_type\": \"\",\n        \"description\": \"\"\n      }\n    },\n    {\n      \"column\": \"Complains\",\n      \"properties\": {\n        \"dtype\": \"number\",\n        \"std\": 0,\n        \"min\": 0,\n        \"max\": 1,\n        \"num_unique_values\": 2,\n        \"samples\": [\n          1,\n          0\n        ],\n        \"semantic_type\": \"\",\n        \"description\": \"\"\n      }\n    },\n    {\n      \"column\": \"Subscription  Length\",\n      \"properties\": {\n        \"dtype\": \"number\",\n        \"std\": 8,\n        \"min\": 3,\n        \"max\": 47,\n        \"num_unique_values\": 45,\n        \"samples\": [\n          3,\n          23\n        ],\n        \"semantic_type\": \"\",\n        \"description\": \"\"\n      }\n    },\n    {\n      \"column\": \"Charge  Amount\",\n      \"properties\": {\n        \"dtype\": \"number\",\n        \"std\": 1,\n        \"min\": 0,\n        \"max\": 10,\n        \"num_unique_values\": 11,\n        \"samples\": [\n          4,\n          0\n        ],\n        \"semantic_type\": \"\",\n        \"description\": \"\"\n      }\n    },\n    {\n      \"column\": \"Hours of Use\",\n      \"properties\": {\n        \"dtype\": \"number\",\n        \"std\": 4197,\n        \"min\": 0,\n        \"max\": 17090,\n        \"num_unique_values\": 1756,\n        \"samples\": [\n          2633,\n          5115\n        ],\n        \"semantic_type\": \"\",\n        \"description\": \"\"\n      }\n    },\n    {\n      \"column\": \"Frequency of use\",\n      \"properties\": {\n        \"dtype\": \"number\",\n        \"std\": 57,\n        \"min\": 0,\n        \"max\": 255,\n        \"num_unique_values\": 242,\n        \"samples\": [\n          22,\n          39\n        ],\n        \"semantic_type\": \"\",\n        \"description\": \"\"\n      }\n    },\n    {\n      \"column\": \"Frequency of SMS\",\n      \"properties\": {\n        \"dtype\": \"number\",\n        \"std\": 112,\n        \"min\": 0,\n        \"max\": 522,\n        \"num_unique_values\": 405,\n        \"samples\": [\n          145,\n          195\n        ],\n        \"semantic_type\": \"\",\n        \"description\": \"\"\n      }\n    },\n    {\n      \"column\": \"Distinct Called Numbers\",\n      \"properties\": {\n        \"dtype\": \"number\",\n        \"std\": 17,\n        \"min\": 0,\n        \"max\": 97,\n        \"num_unique_values\": 92,\n        \"samples\": [\n          49,\n          31\n        ],\n        \"semantic_type\": \"\",\n        \"description\": \"\"\n      }\n    },\n    {\n      \"column\": \"Age Group\",\n      \"properties\": {\n        \"dtype\": \"number\",\n        \"std\": 0,\n        \"min\": 1,\n        \"max\": 5,\n        \"num_unique_values\": 5,\n        \"samples\": [\n          2,\n          5\n        ],\n        \"semantic_type\": \"\",\n        \"description\": \"\"\n      }\n    },\n    {\n      \"column\": \"Tariff Plan\",\n      \"properties\": {\n        \"dtype\": \"number\",\n        \"std\": 0,\n        \"min\": 1,\n        \"max\": 2,\n        \"num_unique_values\": 2,\n        \"samples\": [\n          2,\n          1\n        ],\n        \"semantic_type\": \"\",\n        \"description\": \"\"\n      }\n    },\n    {\n      \"column\": \"Age\",\n      \"properties\": {\n        \"dtype\": \"number\",\n        \"std\": 8,\n        \"min\": 15,\n        \"max\": 55,\n        \"num_unique_values\": 5,\n        \"samples\": [\n          25,\n          55\n        ],\n        \"semantic_type\": \"\",\n        \"description\": \"\"\n      }\n    },\n    {\n      \"column\": \"Churn\",\n      \"properties\": {\n        \"dtype\": \"number\",\n        \"std\": 0,\n        \"min\": 0,\n        \"max\": 1,\n        \"num_unique_values\": 2,\n        \"samples\": [\n          1,\n          0\n        ],\n        \"semantic_type\": \"\",\n        \"description\": \"\"\n      }\n    },\n    {\n      \"column\": \"Hours of Use\",\n      \"properties\": {\n        \"dtype\": \"number\",\n        \"std\": 1.166085746251204,\n        \"min\": 0.0,\n        \"max\": 4.747222222222222,\n        \"num_unique_values\": 1756,\n        \"samples\": [\n          0.7313888888888889,\n          1.4208333333333334\n        ],\n        \"semantic_type\": \"\",\n        \"description\": \"\"\n      }\n    }\n  ]\n}"
            }
          },
          "metadata": {},
          "execution_count": 10
        }
      ]
    },
    {
      "cell_type": "code",
      "source": [
        "customer_churn.columns"
      ],
      "metadata": {
        "colab": {
          "base_uri": "https://localhost:8080/"
        },
        "id": "L0E0yT4xIKLV",
        "outputId": "0c265b80-ad7d-4207-9d45-d135ba5105f6"
      },
      "execution_count": null,
      "outputs": [
        {
          "output_type": "execute_result",
          "data": {
            "text/plain": [
              "Index(['Call  Failure', 'Complains', 'Subscription  Length', 'Charge  Amount',\n",
              "       'Hours of Use', 'Frequency of use', 'Frequency of SMS',\n",
              "       'Distinct Called Numbers', 'Age Group', 'Tariff Plan', 'Age', 'Churn',\n",
              "       'Hours of Use'],\n",
              "      dtype='object')"
            ]
          },
          "metadata": {},
          "execution_count": 11
        }
      ]
    },
    {
      "cell_type": "markdown",
      "source": [
        "**Questão 6:**"
      ],
      "metadata": {
        "id": "D2GgzDLNOgqM"
      }
    },
    {
      "cell_type": "code",
      "source": [
        "from sklearn.model_selection import train_test_split"
      ],
      "metadata": {
        "id": "bVKF9EKEOi-0"
      },
      "execution_count": null,
      "outputs": []
    },
    {
      "cell_type": "code",
      "source": [
        "# Separar as features (X) da variável alvo (y)\n",
        "X = customer_churn.drop(columns=[\"Churn\"])  # Features\n",
        "y = customer_churn[\"Churn\"]  # Variável alvo"
      ],
      "metadata": {
        "id": "8LGCvEhSOl99"
      },
      "execution_count": null,
      "outputs": []
    },
    {
      "cell_type": "code",
      "source": [
        "# Dividir o conjunto de dados em treino e teste (70-30%)\n",
        "X_train, X_test, y_train, y_test = train_test_split(X, y, test_size=0.3, random_state=42)"
      ],
      "metadata": {
        "id": "el1bgVfAOtwU"
      },
      "execution_count": null,
      "outputs": []
    },
    {
      "cell_type": "code",
      "source": [
        "# Verificar o tamanho dos conjuntos de treino e teste\n",
        "print(\"Tamanho do conjunto de treino:\", len(X_train))\n",
        "print(\"Tamanho do conjunto de teste:\", len(X_test))"
      ],
      "metadata": {
        "colab": {
          "base_uri": "https://localhost:8080/"
        },
        "id": "I7rsaIldOx0A",
        "outputId": "0c5a0954-2771-4d7d-85a4-9c7b9b63336d"
      },
      "execution_count": null,
      "outputs": [
        {
          "output_type": "stream",
          "name": "stdout",
          "text": [
            "Tamanho do conjunto de treino: 2205\n",
            "Tamanho do conjunto de teste: 945\n"
          ]
        }
      ]
    },
    {
      "cell_type": "markdown",
      "source": [
        "**Questão 7:**"
      ],
      "metadata": {
        "id": "SMtteBYDO3li"
      }
    },
    {
      "cell_type": "code",
      "source": [
        "from sklearn.neighbors import KNeighborsClassifier\n",
        "from sklearn.metrics import accuracy_score\n",
        "from sklearn.model_selection import train_test_split\n",
        "\n",
        "# Dividir os dados em treinamento e teste (70-30%)\n",
        "X_train_val, X_test, y_train_val, y_test = train_test_split(X, y, test_size=0.3, random_state=42)\n",
        "\n",
        "# Dividir o conjunto de treinamento em treinamento e validação (50-50%)\n",
        "X_train, X_val, y_train, y_val = train_test_split(X_train_val, y_train_val, test_size=0.5, random_state=42)\n",
        "\n",
        "# Lista de valores de K a serem testados\n",
        "k_values = list(range(1, 21))  # Testar valores de 1 a 20 para K\n",
        "\n",
        "# Dicionário para armazenar as acurácias para cada valor de K\n",
        "k_accuracies = {}\n",
        "\n",
        "# Iterar sobre os valores de K e treinar o modelo para cada um\n",
        "for k in k_values:\n",
        "    knn = KNeighborsClassifier(n_neighbors=k)\n",
        "    knn.fit(X_train, y_train)\n",
        "\n",
        "    # Fazer previsões no conjunto de validação\n",
        "    y_pred = knn.predict(X_val)\n",
        "\n",
        "    # Calcular a acurácia no conjunto de validação\n",
        "    accuracy = accuracy_score(y_val, y_pred)\n",
        "\n",
        "    # Armazenar a acurácia para este valor de K\n",
        "    k_accuracies[k] = accuracy\n",
        "\n",
        "# Encontrar o melhor valor de K com base na maior acurácia no conjunto de validação\n",
        "best_k = max(k_accuracies, key=k_accuracies.get)\n",
        "\n",
        "print(\"O melhor valor de K encontrado é:\", best_k)\n"
      ],
      "metadata": {
        "colab": {
          "base_uri": "https://localhost:8080/"
        },
        "id": "xL0ynqNvRde3",
        "outputId": "312321eb-c3c8-49cd-9668-b912f404cb75"
      },
      "execution_count": null,
      "outputs": [
        {
          "output_type": "stream",
          "name": "stdout",
          "text": [
            "O melhor valor de K encontrado é: 9\n"
          ]
        }
      ]
    },
    {
      "cell_type": "markdown",
      "source": [
        "Nesta abordagem, avaliamos o desempenho do modelo para diferentes valores de K usando um conjunto de validação (não relacionado ao conjunto de teste) e selecionamos o valor de K que proporciona o melhor desempenho.\n",
        "\n",
        "Para isso, poderíamos dividir o conjunto de dados em três partes: treinamento, validação e teste. Usaríamos o conjunto de treinamento para treinar o modelo, o conjunto de validação para avaliar o desempenho para diferentes valores de K e o conjunto de teste final para avaliar o desempenho do modelo selecionado.\n",
        "\n",
        "A justificativa para a escolha do melhor valor de K deve ser baseada no equilíbrio entre viés e variância do modelo. Valores muito baixos de K podem resultar em overfitting, pois o modelo pode capturar ruídos nos dados de treinamento. Por outro lado, valores muito altos de K podem resultar em underfitting, pois o modelo pode ignorar padrões importantes nos dados."
      ],
      "metadata": {
        "id": "64zBhl8BPOHl"
      }
    },
    {
      "cell_type": "markdown",
      "source": [
        "**Questão 8:**"
      ],
      "metadata": {
        "id": "MhKuMHSYPV47"
      }
    },
    {
      "cell_type": "code",
      "source": [
        "# Criar o modelo KNN com o melhor valor de K encontrado\n",
        "best_knn = KNeighborsClassifier(n_neighbors=best_k)\n",
        "\n",
        "# Treinar o modelo com o conjunto de treino\n",
        "best_knn.fit(X_train, y_train)\n",
        "\n",
        "# Avaliar a acurácia do modelo no conjunto de teste\n",
        "accuracy = best_knn.score(X_test, y_test)\n",
        "\n",
        "print(\"Acurácia do modelo KNN com o melhor valor de K encontrado:\", accuracy)"
      ],
      "metadata": {
        "colab": {
          "base_uri": "https://localhost:8080/"
        },
        "id": "hxLpiet4PYfN",
        "outputId": "db223a5a-9ba2-404a-d11d-af809052baeb"
      },
      "execution_count": null,
      "outputs": [
        {
          "output_type": "stream",
          "name": "stdout",
          "text": [
            "Acurácia do modelo KNN com o melhor valor de K encontrado: 0.8582010582010582\n"
          ]
        }
      ]
    },
    {
      "cell_type": "markdown",
      "source": [
        "**Questão 9:**"
      ],
      "metadata": {
        "id": "VA85kItBPtAG"
      }
    },
    {
      "cell_type": "markdown",
      "source": [
        "As curvas de aprendizado são uma técnica valiosa para avaliar o desempenho de um modelo de Machine Learning e identificar se ele está sofrendo de overfitting ou não. Essas curvas mostram como o desempenho do modelo varia conforme o tamanho do conjunto de treinamento aumenta.\n",
        "\n",
        "Ao plotar as curvas de aprendizado, geralmente temos no eixo x o tamanho do conjunto de treinamento (ou o número de exemplos de treinamento) e no eixo y as métricas de desempenho do modelo, como a acurácia ou o erro. A curva de aprendizado do conjunto de treinamento indica como o desempenho do modelo melhora à medida que mais dados são utilizados para treinamento. A curva de aprendizado do conjunto de teste mostra como o desempenho do modelo varia com o tamanho do conjunto de treinamento quando o modelo é testado em um conjunto de dados que não foi visto durante o treinamento.\n",
        "\n",
        "A interpretação das curvas de aprendizado pode nos fornecer insights sobre o comportamento do modelo:\n",
        "\n",
        "1. **Overfitting**: Se a curva de aprendizado do conjunto de treinamento continua a melhorar à medida que o tamanho do conjunto de treinamento aumenta, mas a curva de aprendizado do conjunto de teste atinge um platô ou começa a piorar, isso sugere que o modelo está se ajustando demais aos dados de treinamento (overfitting). Isso ocorre porque o modelo está aprendendo padrões específicos dos dados de treinamento que não se generalizam bem para dados não vistos.\n",
        "\n",
        "2. **Underfitting**: Se tanto a curva de aprendizado do conjunto de treinamento quanto a do conjunto de teste atingem um platô e permanecem relativamente baixas, isso pode indicar que o modelo está subajustando (underfitting) os dados. Isso significa que o modelo não é capaz de capturar os padrões nos dados de treinamento e, portanto, não consegue generalizar bem para novos dados.\n",
        "\n",
        "Portanto, ao analisar as curvas de aprendizado, podemos identificar se o modelo está sofrendo de overfitting (se a curva de aprendizado do conjunto de teste estiver divergindo da curva de aprendizado do conjunto de treinamento) e tomar medidas corretivas, como regularização, redução da complexidade do modelo ou aumento do tamanho do conjunto de treinamento, para melhorar o desempenho do modelo."
      ],
      "metadata": {
        "id": "mKEHv_fBQAcZ"
      }
    },
    {
      "cell_type": "markdown",
      "source": [
        "**Questão 10:**"
      ],
      "metadata": {
        "id": "WvkM1VEwQDfd"
      }
    },
    {
      "cell_type": "code",
      "source": [
        "from sklearn.neighbors import KNeighborsClassifier\n",
        "from sklearn.model_selection import cross_val_score\n",
        "\n",
        "# Criar o modelo KNN com o melhor valor de K encontrado\n",
        "best_knn = KNeighborsClassifier(n_neighbors=best_k)\n",
        "\n",
        "# Realizar validação cruzada com 5 dobras\n",
        "cv_scores = cross_val_score(best_knn, X_train, y_train, cv=5)\n",
        "\n",
        "# Calcular a acurácia média\n",
        "mean_accuracy = cv_scores.mean()\n",
        "\n",
        "print(\"Acurácia média do modelo KNN com validação cruzada (5 dobras):\", mean_accuracy)\n"
      ],
      "metadata": {
        "colab": {
          "base_uri": "https://localhost:8080/"
        },
        "id": "0F3XhUePQFsO",
        "outputId": "039f9db5-731e-4831-915a-e649672f9cd0"
      },
      "execution_count": null,
      "outputs": [
        {
          "output_type": "stream",
          "name": "stdout",
          "text": [
            "Acurácia média do modelo KNN com validação cruzada (5 dobras): 0.8666666666666666\n"
          ]
        }
      ]
    },
    {
      "cell_type": "markdown",
      "source": [
        "**Questão 11:**\n",
        "\n",
        "O parâmetro K no algoritmo KNN (K-Nearest Neighbors) desempenha um papel crucial na determinação do equilíbrio entre viés e variância do modelo, e sua escolha pode influenciar significativamente a presença de overfitting ou underfitting.\n",
        "\n",
        "O overfitting ocorre quando o modelo é excessivamente complexo e se ajusta demais aos dados de treinamento, capturando até mesmo o ruído nos dados, o que pode prejudicar sua capacidade de generalização para novos dados. A escolha de um valor de K muito baixo no KNN pode aumentar o risco de overfitting, pois o modelo se torna mais sensível às flutuações nos dados de treinamento. Com um valor de K baixo, o modelo pode acabar se ajustando demasiadamente aos dados específicos do conjunto de treinamento, resultando em uma fronteira de decisão muito complexa e com pouca capacidade de generalização.\n",
        "\n",
        "Por outro lado, o underfitting ocorre quando o modelo é muito simples para capturar os padrões nos dados de treinamento, resultando em um desempenho inadequado, mesmo nos dados de treinamento. A escolha de um valor de K muito alto no KNN pode aumentar o risco de underfitting, pois o modelo considera um número maior de vizinhos ao fazer previsões, o que pode levar a uma simplificação excessiva do modelo e a uma fronteira de decisão muito rígida.\n",
        "\n",
        "Portanto, ao selecionar o valor de K para o modelo KNN, é importante encontrar um equilíbrio adequado entre viés e variância do modelo. Valores de K muito baixos podem levar a overfitting, enquanto valores de K muito altos podem levar a underfitting. A escolha do valor ideal de K depende da complexidade do problema, do tamanho do conjunto de dados e da distribuição dos dados. Experimentar diferentes valores de K e avaliar o desempenho do modelo para cada um deles pode ajudar a encontrar um equilíbrio adequado e evitar overfitting ou underfitting."
      ],
      "metadata": {
        "id": "OshioT2wSIGG"
      }
    },
    {
      "cell_type": "markdown",
      "source": [
        "**Questão 12:**"
      ],
      "metadata": {
        "id": "sMdATC4zSLwm"
      }
    },
    {
      "cell_type": "markdown",
      "source": [
        "A abordagem de Treino-Teste desempenha um papel fundamental na prevenção do problema conhecido como overfitting ao avaliar a capacidade de generalização de um modelo de Machine Learning.\n",
        "\n",
        "Overfitting ocorre quando o modelo se ajusta demasiadamente aos dados de treinamento, capturando até mesmo o ruído presente nos dados. Isso faz com que o modelo tenha um desempenho muito bom nos dados de treinamento, mas um desempenho ruim em dados não vistos, ou seja, não generaliza bem para novos exemplos.\n",
        "\n",
        "Ao usar a abordagem de Treino-Teste, dividimos nossos dados em dois conjuntos distintos: um conjunto de treinamento, usado para treinar o modelo, e um conjunto de teste, usado para avaliar o desempenho do modelo em dados não vistos. Esta divisão é fundamental para evitar que o modelo aprenda a se ajustar ao ruído nos dados e ajuda a garantir que o modelo seja capaz de generalizar para novos dados.\n",
        "\n",
        "Ao avaliar o desempenho do modelo no conjunto de teste, podemos ter uma estimativa mais realista de como o modelo se sairá em situações do mundo real. Se o desempenho do modelo no conjunto de teste for significativamente pior do que no conjunto de treinamento, isso pode indicar que o modelo está sofrendo de overfitting.\n",
        "\n",
        "Além disso, a abordagem de Treino-Teste nos permite ajustar a complexidade do modelo com base no desempenho no conjunto de teste. Se observarmos overfitting, podemos tentar reduzir a complexidade do modelo, por exemplo, ajustando seus hiperparâmetros, reduzindo o número de características ou aumentando o tamanho do conjunto de treinamento. Isso nos ajuda a encontrar um equilíbrio adequado entre viés e variância do modelo e a desenvolver um modelo que seja capaz de generalizar bem para novos dados.\n"
      ],
      "metadata": {
        "id": "v-9807UfUCxl"
      }
    },
    {
      "cell_type": "markdown",
      "source": [
        "**Questão 13:**"
      ],
      "metadata": {
        "id": "0ZyhjiSOT99F"
      }
    },
    {
      "cell_type": "code",
      "source": [
        "from sklearn.metrics import roc_curve, roc_auc_score\n",
        "import matplotlib.pyplot as plt"
      ],
      "metadata": {
        "id": "cMZBGJI3SRBa"
      },
      "execution_count": null,
      "outputs": []
    },
    {
      "cell_type": "code",
      "source": [
        "# Treinar o modelo com o conjunto de treinamento\n",
        "best_knn.fit(X_train, y_train)"
      ],
      "metadata": {
        "colab": {
          "base_uri": "https://localhost:8080/",
          "height": 75
        },
        "id": "JwYUj46uSnzA",
        "outputId": "7a9e1f03-f7eb-4a5d-88e0-66d04daa0daf"
      },
      "execution_count": null,
      "outputs": [
        {
          "output_type": "execute_result",
          "data": {
            "text/plain": [
              "KNeighborsClassifier(n_neighbors=2)"
            ],
            "text/html": [
              "<style>#sk-container-id-1 {color: black;background-color: white;}#sk-container-id-1 pre{padding: 0;}#sk-container-id-1 div.sk-toggleable {background-color: white;}#sk-container-id-1 label.sk-toggleable__label {cursor: pointer;display: block;width: 100%;margin-bottom: 0;padding: 0.3em;box-sizing: border-box;text-align: center;}#sk-container-id-1 label.sk-toggleable__label-arrow:before {content: \"▸\";float: left;margin-right: 0.25em;color: #696969;}#sk-container-id-1 label.sk-toggleable__label-arrow:hover:before {color: black;}#sk-container-id-1 div.sk-estimator:hover label.sk-toggleable__label-arrow:before {color: black;}#sk-container-id-1 div.sk-toggleable__content {max-height: 0;max-width: 0;overflow: hidden;text-align: left;background-color: #f0f8ff;}#sk-container-id-1 div.sk-toggleable__content pre {margin: 0.2em;color: black;border-radius: 0.25em;background-color: #f0f8ff;}#sk-container-id-1 input.sk-toggleable__control:checked~div.sk-toggleable__content {max-height: 200px;max-width: 100%;overflow: auto;}#sk-container-id-1 input.sk-toggleable__control:checked~label.sk-toggleable__label-arrow:before {content: \"▾\";}#sk-container-id-1 div.sk-estimator input.sk-toggleable__control:checked~label.sk-toggleable__label {background-color: #d4ebff;}#sk-container-id-1 div.sk-label input.sk-toggleable__control:checked~label.sk-toggleable__label {background-color: #d4ebff;}#sk-container-id-1 input.sk-hidden--visually {border: 0;clip: rect(1px 1px 1px 1px);clip: rect(1px, 1px, 1px, 1px);height: 1px;margin: -1px;overflow: hidden;padding: 0;position: absolute;width: 1px;}#sk-container-id-1 div.sk-estimator {font-family: monospace;background-color: #f0f8ff;border: 1px dotted black;border-radius: 0.25em;box-sizing: border-box;margin-bottom: 0.5em;}#sk-container-id-1 div.sk-estimator:hover {background-color: #d4ebff;}#sk-container-id-1 div.sk-parallel-item::after {content: \"\";width: 100%;border-bottom: 1px solid gray;flex-grow: 1;}#sk-container-id-1 div.sk-label:hover label.sk-toggleable__label {background-color: #d4ebff;}#sk-container-id-1 div.sk-serial::before {content: \"\";position: absolute;border-left: 1px solid gray;box-sizing: border-box;top: 0;bottom: 0;left: 50%;z-index: 0;}#sk-container-id-1 div.sk-serial {display: flex;flex-direction: column;align-items: center;background-color: white;padding-right: 0.2em;padding-left: 0.2em;position: relative;}#sk-container-id-1 div.sk-item {position: relative;z-index: 1;}#sk-container-id-1 div.sk-parallel {display: flex;align-items: stretch;justify-content: center;background-color: white;position: relative;}#sk-container-id-1 div.sk-item::before, #sk-container-id-1 div.sk-parallel-item::before {content: \"\";position: absolute;border-left: 1px solid gray;box-sizing: border-box;top: 0;bottom: 0;left: 50%;z-index: -1;}#sk-container-id-1 div.sk-parallel-item {display: flex;flex-direction: column;z-index: 1;position: relative;background-color: white;}#sk-container-id-1 div.sk-parallel-item:first-child::after {align-self: flex-end;width: 50%;}#sk-container-id-1 div.sk-parallel-item:last-child::after {align-self: flex-start;width: 50%;}#sk-container-id-1 div.sk-parallel-item:only-child::after {width: 0;}#sk-container-id-1 div.sk-dashed-wrapped {border: 1px dashed gray;margin: 0 0.4em 0.5em 0.4em;box-sizing: border-box;padding-bottom: 0.4em;background-color: white;}#sk-container-id-1 div.sk-label label {font-family: monospace;font-weight: bold;display: inline-block;line-height: 1.2em;}#sk-container-id-1 div.sk-label-container {text-align: center;}#sk-container-id-1 div.sk-container {/* jupyter's `normalize.less` sets `[hidden] { display: none; }` but bootstrap.min.css set `[hidden] { display: none !important; }` so we also need the `!important` here to be able to override the default hidden behavior on the sphinx rendered scikit-learn.org. See: https://github.com/scikit-learn/scikit-learn/issues/21755 */display: inline-block !important;position: relative;}#sk-container-id-1 div.sk-text-repr-fallback {display: none;}</style><div id=\"sk-container-id-1\" class=\"sk-top-container\"><div class=\"sk-text-repr-fallback\"><pre>KNeighborsClassifier(n_neighbors=2)</pre><b>In a Jupyter environment, please rerun this cell to show the HTML representation or trust the notebook. <br />On GitHub, the HTML representation is unable to render, please try loading this page with nbviewer.org.</b></div><div class=\"sk-container\" hidden><div class=\"sk-item\"><div class=\"sk-estimator sk-toggleable\"><input class=\"sk-toggleable__control sk-hidden--visually\" id=\"sk-estimator-id-1\" type=\"checkbox\" checked><label for=\"sk-estimator-id-1\" class=\"sk-toggleable__label sk-toggleable__label-arrow\">KNeighborsClassifier</label><div class=\"sk-toggleable__content\"><pre>KNeighborsClassifier(n_neighbors=2)</pre></div></div></div></div></div>"
            ]
          },
          "metadata": {},
          "execution_count": 23
        }
      ]
    },
    {
      "cell_type": "code",
      "source": [
        "# Fazer previsões de probabilidade no conjunto de teste\n",
        "y_prob = best_knn.predict_proba(X_test)[:, 1]"
      ],
      "metadata": {
        "id": "VWIR5BNmSh3C"
      },
      "execution_count": null,
      "outputs": []
    },
    {
      "cell_type": "code",
      "source": [
        "# Calcular a curva ROC\n",
        "fpr, tpr, thresholds = roc_curve(y_test, y_prob)\n"
      ],
      "metadata": {
        "id": "f9uM8gAWSqMF"
      },
      "execution_count": null,
      "outputs": []
    },
    {
      "cell_type": "code",
      "source": [
        "# Calcular a área sob a curva ROC (AUC-ROC)\n",
        "auc_roc = roc_auc_score(y_test, y_prob)"
      ],
      "metadata": {
        "id": "70lGY5ArSzkI"
      },
      "execution_count": null,
      "outputs": []
    },
    {
      "cell_type": "code",
      "source": [
        "# Plotar a curva ROC\n",
        "plt.figure(figsize=(8, 6))\n",
        "plt.plot(fpr, tpr, color='blue', lw=2, label='Curva ROC (AUC = %0.2f)' % auc_roc)\n",
        "plt.plot([0, 1], [0, 1], color='gray', linestyle='--')\n",
        "plt.xlim([0.0, 1.0])\n",
        "plt.ylim([0.0, 1.05])\n",
        "plt.xlabel('Taxa de Falso Positivo (FPR)')\n",
        "plt.ylabel('Taxa de Verdadeiro Positivo (TPR)')\n",
        "plt.title('Curva ROC')\n",
        "plt.legend(loc='lower right')\n",
        "plt.show()\n"
      ],
      "metadata": {
        "colab": {
          "base_uri": "https://localhost:8080/",
          "height": 564
        },
        "id": "5jEOsBl9S3aS",
        "outputId": "767daf78-06b6-49a6-c9b5-6bbb2b6d0443"
      },
      "execution_count": null,
      "outputs": [
        {
          "output_type": "display_data",
          "data": {
            "text/plain": [
              "<Figure size 800x600 with 1 Axes>"
            ],
            "image/png": "[encoded data removed]"
          },
          "metadata": {}
        }
      ]
    },
    {
      "cell_type": "code",
      "source": [
        "print(\"AUC-ROC:\", auc_roc)"
      ],
      "metadata": {
        "colab": {
          "base_uri": "https://localhost:8080/"
        },
        "id": "jVeX7Li1S8NZ",
        "outputId": "08801e8a-a6b0-4879-a188-2f333f21a708"
      },
      "execution_count": null,
      "outputs": [
        {
          "output_type": "stream",
          "name": "stdout",
          "text": [
            "AUC-ROC: 0.6954969017548839\n"
          ]
        }
      ]
    },
    {
      "cell_type": "markdown",
      "source": [
        "**Questão 14:**"
      ],
      "metadata": {
        "id": "uT-9xyRoTHXA"
      }
    },
    {
      "cell_type": "code",
      "source": [
        "from sklearn.metrics import precision_recall_curve, average_precision_score"
      ],
      "metadata": {
        "id": "tCcVra0STJja"
      },
      "execution_count": null,
      "outputs": []
    },
    {
      "cell_type": "code",
      "source": [
        "# Fazer previsões de probabilidade no conjunto de teste\n",
        "y_prob = best_knn.predict_proba(X_test)[:, 1]\n",
        "\n",
        "# Calcular a curva Precision-Recall\n",
        "precision, recall, thresholds = precision_recall_curve(y_test, y_prob)"
      ],
      "metadata": {
        "id": "j3OTn1OFUYoU"
      },
      "execution_count": null,
      "outputs": []
    },
    {
      "cell_type": "code",
      "source": [
        "# Calcular a média da precisão média\n",
        "average_precision = average_precision_score(y_test, y_prob)"
      ],
      "metadata": {
        "id": "fTteWYuQUa0z"
      },
      "execution_count": null,
      "outputs": []
    },
    {
      "cell_type": "code",
      "source": [
        "# Plotar a curva Precision-Recall\n",
        "plt.figure(figsize=(8, 6))\n",
        "plt.plot(recall, precision, color='blue', lw=2, label='Curva Precision-Recall (AP = %0.2f)' % average_precision)\n",
        "plt.xlabel('Recall')\n",
        "plt.ylabel('Precision')\n",
        "plt.title('Curva Precision-Recall')\n",
        "plt.legend(loc='lower left')\n",
        "plt.xlim([0.0, 1.0])\n",
        "plt.ylim([0.0, 1.05])\n",
        "plt.show()\n",
        "\n",
        "print(\"Média da Precisão Média (AP):\", average_precision)"
      ],
      "metadata": {
        "colab": {
          "base_uri": "https://localhost:8080/",
          "height": 581
        },
        "id": "tl3z2p6sUdWY",
        "outputId": "3536783e-ac52-428a-9bcf-e9fc1b52275a"
      },
      "execution_count": null,
      "outputs": [
        {
          "output_type": "display_data",
          "data": {
            "text/plain": [
              "<Figure size 800x600 with 1 Axes>"
            ],
            "image/png": "[encoded data removed]"
          },
          "metadata": {}
        },
        {
          "output_type": "stream",
          "name": "stdout",
          "text": [
            "Média da Precisão Média (AP): 0.31891518035308886\n"
          ]
        }
      ]
    },
    {
      "cell_type": "markdown",
      "source": [
        "**Questão 15:**"
      ],
      "metadata": {
        "id": "61VjtFCyUp8f"
      }
    },
    {
      "cell_type": "code",
      "source": [
        "from sklearn.metrics import confusion_matrix, precision_score, recall_score"
      ],
      "metadata": {
        "id": "MRC-x9B-Us5A"
      },
      "execution_count": null,
      "outputs": []
    },
    {
      "cell_type": "code",
      "source": [
        "# Fazer previsões no conjunto de teste\n",
        "y_pred = best_knn.predict(X_test)"
      ],
      "metadata": {
        "id": "yvaaAc1dU8ju"
      },
      "execution_count": null,
      "outputs": []
    },
    {
      "cell_type": "code",
      "source": [
        "# Calcular a matriz de confusão\n",
        "conf_matrix = confusion_matrix(y_test, y_pred)"
      ],
      "metadata": {
        "id": "pNwJbXdWU5My"
      },
      "execution_count": null,
      "outputs": []
    },
    {
      "cell_type": "code",
      "source": [
        "# Calcular as métricas de avaliação\n",
        "accuracy = accuracy_score(y_test, y_pred)\n",
        "precision = precision_score(y_test, y_pred)\n",
        "recall = recall_score(y_test, y_pred)\n"
      ],
      "metadata": {
        "id": "6q1jgf9fVAOZ"
      },
      "execution_count": null,
      "outputs": []
    },
    {
      "cell_type": "code",
      "source": [
        "print(\"Matriz de Confusão:\")\n",
        "print(conf_matrix)\n",
        "print(\"\\nAcurácia:\", accuracy)\n",
        "print(\"Precisão:\", precision)\n",
        "print(\"Recall:\", recall)"
      ],
      "metadata": {
        "colab": {
          "base_uri": "https://localhost:8080/"
        },
        "id": "yqzIhYIpVMlh",
        "outputId": "930e1043-ca3d-487a-a5c3-c124948690df"
      },
      "execution_count": null,
      "outputs": [
        {
          "output_type": "stream",
          "name": "stdout",
          "text": [
            "Matriz de Confusão:\n",
            "[[759  24]\n",
            " [135  27]]\n",
            "\n",
            "Acurácia: 0.8317460317460318\n",
            "Precisão: 0.5294117647058824\n",
            "Recall: 0.16666666666666666\n"
          ]
        }
      ]
    },
    {
      "cell_type": "markdown",
      "source": [
        "**Questão 16:**"
      ],
      "metadata": {
        "id": "yIhruqcXVPmi"
      }
    },
    {
      "cell_type": "markdown",
      "source": [
        "Para determinar se o modelo KNN é apropriado para o cenário de dados apresentado, devemos considerar suas vantagens e desvantagens em relação às características específicas do conjunto de dados e aos objetivos do problema.\n",
        "\n",
        "No cenário de dados apresentado, onde temos características como o número de chamadas, duração das chamadas, número de mensagens de texto, entre outros, o modelo KNN pode ser uma escolha adequada, especialmente devido à sua simplicidade e flexibilidade. No entanto, devemos estar cientes de suas limitações, como sensibilidade à escala e exigência computacional, e tomar medidas para mitigar esses desafios, como pré-processamento adequado dos dados e consideração do custo computacional. Além disso, se houver presença significativa de ruído nos dados ou se os dados forem altamente dimensionais, outras abordagens de modelagem podem ser mais adequadas. Portanto, a escolha do modelo deve ser baseada em uma análise abrangente das características dos dados, dos requisitos do problema e das capacidades do modelo."
      ],
      "metadata": {
        "id": "Ou1X291aVe8d"
      }
    },
    {
      "cell_type": "markdown",
      "source": [
        "Link para o Colab:\n",
        "\n",
        "https://colab.research.google.com/drive/1ilmOMJ9hBJO-PQvsrc9cJAC4E6TrPw-l?usp=sharing"
      ],
      "metadata": {
        "id": "mIr99W1jVk2s"
      }
    }
  ]
}